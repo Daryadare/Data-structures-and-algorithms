{
 "cells": [
  {
   "cell_type": "markdown",
   "id": "2923dfb9",
   "metadata": {},
   "source": [
    "# Лабораторная работа №3\n",
    "## Выполнила студентка группы БФИ2001 Калмыкова Дарья Сергеевна"
   ]
  },
  {
   "cell_type": "markdown",
   "id": "annual-symbol",
   "metadata": {},
   "source": [
    "### Оглавление\n",
    "1. [Задание 1](#Задание-№1)\n",
    "2. [Задание 2](#Задание-№2)\n",
    "4. [Вывод](#Вывод)"
   ]
  },
  {
   "cell_type": "markdown",
   "id": "independent-spirit",
   "metadata": {},
   "source": [
    "> Дополнительные модули, использованные при выполнение лабораторной"
   ]
  },
  {
   "cell_type": "code",
   "execution_count": 1,
   "id": "4839be2b",
   "metadata": {},
   "outputs": [],
   "source": [
    "# Необходим при замере скорости выполнения кода\n",
    "from datetime import datetime as t\n",
    "# Нужен для создания словаря в алг. Бойера-Мура\n",
    "from collections import defaultdict"
   ]
  },
  {
   "cell_type": "markdown",
   "id": "inclusive-motorcycle",
   "metadata": {},
   "source": [
    "### Задание №1\n",
    "Реализовать методы поиска подстроки в строке. Добавить возможность ввода строки и подстроки с клавиатуры. Предусмотреть возможность существования пробела. Реализовать возможность выбора опции чувствительности или нечувствительности к регистру. Оценить время работы каждого алгоритма поиска и сравнить его со временем работы стандартной функции поиска, используемой в выбранном языке программирования."
   ]
  },
  {
   "cell_type": "markdown",
   "id": "interracial-communication",
   "metadata": {},
   "source": [
    "#### Алгоритм Кнута-Морриса-Пратта"
   ]
  },
  {
   "cell_type": "code",
   "execution_count": 2,
   "id": "presidential-level",
   "metadata": {},
   "outputs": [
    {
     "name": "stdout",
     "output_type": "stream",
     "text": [
      "Введите текст: итак Smelly cat What are They feeding You такие дела\n",
      "Введите подстроку для поиска: at ar\n",
      "Учитывать регистр в тексте и подстроке? Введите да или нет\n",
      "да\n",
      "Подстрока найдена по индексу: 18\n",
      "Duration: 0:00:00.000999\n"
     ]
    }
   ],
   "source": [
    "def prefix(text):\n",
    "    n = len(text)\n",
    "    pi = [0] * n\n",
    "    for i in range(1, n):\n",
    "        j = pi[i-1]\n",
    "        while j > 0 and text[j] != text[i]:\n",
    "            j = pi[j-1]\n",
    "        if text[i] == text[j]:\n",
    "            j += 1\n",
    "        pi[i] = j\n",
    "    return pi\n",
    "\n",
    "def kmp_search(text, substring, start_index=0):\n",
    "    j = 0\n",
    "    pi = prefix(substring)\n",
    "    for i in range(start_index, len(text)):\n",
    "        while j > 0 and text[i] != substring[j]:\n",
    "            j = pi[j-1]\n",
    "        if text[i] == substring[j]:\n",
    "            j += 1\n",
    "        if j >= len(substring):\n",
    "            return i - j + 1\n",
    "    return None\n",
    "\n",
    "text = input('Введите текст: ')\n",
    "substring = input('Введите подстроку для поиска: ')\n",
    "print('Учитывать регистр в тексте и подстроке? Введите да или нет')\n",
    "s = (input())\n",
    "\n",
    "if s == 'нет':\n",
    "    text.lower()\n",
    "    substring.lower()\n",
    "    \n",
    "start_time = t.now()\n",
    "print ('Подстрока найдена по индексу:', kmp_search(text, substring, 0))\n",
    "end_time = t.now()\n",
    "print('Duration: {}'.format(end_time - start_time))     "
   ]
  },
  {
   "cell_type": "markdown",
   "id": "downtown-option",
   "metadata": {},
   "source": [
    "#### Упрощенный алгоритм Бойера-Мура"
   ]
  },
  {
   "cell_type": "code",
   "execution_count": 7,
   "id": "f9b69966",
   "metadata": {
    "scrolled": false
   },
   "outputs": [
    {
     "name": "stdout",
     "output_type": "stream",
     "text": [
      "Введите текст: итак Smelly cat What are They feeding You такие дела\n",
      "Введите подстроку для поиска: hat\n",
      "Учитывать регистр в тексте и подстроке? Введите да или нет\n",
      "да\n",
      "Подстрока найдена по индексу: 17\n",
      "Duration: 0:00:00.000970\n"
     ]
    }
   ],
   "source": [
    "# формирование таблицы смещений\n",
    "def offset_table(string):\n",
    "    table = dict() \n",
    "    length = len(string)\n",
    "    for i in range(length - 1):\n",
    "        table[string[i]] = length - i - 1\n",
    "    if not string[length - 1] in table:\n",
    "        table[string[length - 1]] = length\n",
    "    return table\n",
    "\n",
    "def bm_search(string, substring):\n",
    "    table = offset_table(substring)\n",
    "    sub_length = len(substring)\n",
    "    current_step = sub_length - 1 #счетчик проверяемого символа в строке\n",
    "\n",
    "    while current_step < len(string):  #основной цикл для поиска подстроки\n",
    "        s_sought_i = sub_length - 1 \n",
    "        for i in range(current_step, current_step - sub_length, -1): #от конца к началу\n",
    "            if string[i] != substring[s_sought_i]: #проверка последнего символа подстроки и символа в строке \n",
    "                if string[i] in table:\n",
    "                    step = table[string[i]]\n",
    "                else:\n",
    "                    step = sub_length\n",
    "                break\n",
    "\n",
    "            if i == current_step - sub_length + 1:  #если конец\n",
    "                return i\n",
    "            s_sought_i -= 1\n",
    "\n",
    "        current_step += step  #двигаем место поиска на шаг\n",
    "\n",
    "text = input('Введите текст: ')\n",
    "substring = input('Введите подстроку для поиска: ')\n",
    "print('Учитывать регистр в тексте и подстроке? Введите да или нет')\n",
    "s = (input())\n",
    "\n",
    "if s == 'нет':\n",
    "    text.lower()\n",
    "    substring.lower()\n",
    "    \n",
    "start_time = t.now()\n",
    "print ('Подстрока найдена по индексу:', bm_search(text, substring))\n",
    "end_time = t.now()\n",
    "print('Duration: {}'.format(end_time - start_time))    "
   ]
  },
  {
   "cell_type": "markdown",
   "id": "a9f5a69a",
   "metadata": {},
   "source": [
    "#### Стандартная функция поиска"
   ]
  },
  {
   "cell_type": "code",
   "execution_count": 10,
   "id": "2092fab2",
   "metadata": {
    "scrolled": true
   },
   "outputs": [
    {
     "name": "stdout",
     "output_type": "stream",
     "text": [
      "Введите текст: итак Smelly cat What are They feeding You такие дела sunny day silly song вот это да\n",
      "Введите подстроку для поиска: ly so\n",
      "Учитывать регистр в тексте? Введите да или нет\n",
      "да\n",
      "Подстрока найдена по индексу: 66\n",
      "Duration: 0:00:00.000997\n"
     ]
    }
   ],
   "source": [
    "text = input('Введите текст: ')\n",
    "substring = input('Введите подстроку для поиска: ')\n",
    "print('Учитывать регистр в тексте? Введите да или нет')\n",
    "s = (input())\n",
    "\n",
    "if s == 'нет':\n",
    "    text.lower()\n",
    "    substring.lower()\n",
    "    \n",
    "start_time = t.now()\n",
    "print ('Подстрока найдена по индексу:', text.find(substring))\n",
    "end_time = t.now()\n",
    "print('Duration: {}'.format(end_time - start_time))"
   ]
  },
  {
   "cell_type": "markdown",
   "id": "hybrid-memorial",
   "metadata": {},
   "source": [
    "### Задание №2\n",
    "Написать программу, определяющую, является ли данное\n",
    "расположение «решаемым», то есть можно ли из него за конечное число\n",
    "шагов перейти к правильному. Если это возможно, то необходимо найти хотя\n",
    "бы одно решение - последовательность движений, после которой числа будут\n",
    "расположены в правильном порядке.\n",
    "#### Входные данные: массив чисел, представляющий собой расстановку в\n",
    "Порядке «слева направо, сверху вниз». Число 0 обозначает пустое поле.\n",
    "Например, массив [1, 2, 3, 4, 5, 6, 7, 8, 9, 10, 11, 12, 13, 14, 15, 0] представляет\n",
    "собой «решенную» позицию элементов.\n",
    "#### Выходные данные: если решения нет, то функция должна вернуть\n",
    "Пустой массив []. Если решение есть, то необходимо представить решение —\n",
    "для каждого шага записывается номер передвигаемого на данном шаге\n",
    "элемента. "
   ]
  },
  {
   "cell_type": "code",
   "execution_count": 5,
   "id": "eleven-generic",
   "metadata": {},
   "outputs": [
    {
     "name": "stdout",
     "output_type": "stream",
     "text": [
      "  1  2  3  4\n",
      "  5  6  7  8\n",
      "  9 10 12 15\n",
      " 13 14 11  0\n",
      "\n",
      "[15, 12, 11, 15]\n"
     ]
    }
   ],
   "source": [
    "from queue import PriorityQueue\n",
    "\n",
    "N = 4\n",
    "\n",
    "#Функция, определяющая движение пятнашек\n",
    "def moves(position):\n",
    "    blank = position.index(0)\n",
    "    i, j = divmod(blank, N) #возвращает пару частное-остаток\n",
    "    offsets = []\n",
    "    if i > 0: offsets.append(-N)     #сдвиг вниз\n",
    "    if i < N - 1: offsets.append(N)  #сдвиг вверх\n",
    "    if j > 0: offsets.append(-1)     #сдвиг вправо\n",
    "    if j < N - 1: offsets.append(1)  #сдвиг влево\n",
    "    for offset in offsets:\n",
    "        swap = blank + offset\n",
    "        yield tuple(position[swap] if x == blank else position[blank] if x == swap else position[x] for x in range(N*N))\n",
    "\n",
    "#Функция, определяющая есть ли у пятнашек конечное решение\n",
    "def parity(permutation):\n",
    "    seen, cycles = set(), 0\n",
    "    for i in permutation: #перебор в перестановках\n",
    "        if i not in seen:\n",
    "            cycles += 1\n",
    "            while i not in seen:\n",
    "                seen.add(i)\n",
    "                i = permutation[i]\n",
    "    return (cycles + len(permutation)) % 2\n",
    "\n",
    "\n",
    "class Position:\n",
    "    #Функция, принимающая позицию и начальную дистанцию\n",
    "    def __init__(self, position, start_distance):\n",
    "        self.position = position\n",
    "        self.start_distance = start_distance\n",
    "\n",
    "    #Функция, срабатывающая при сравнении объекта с другим объектом\n",
    "    def __lt__(self, other):\n",
    "        return self.start_distance < other.start_distance\n",
    "\n",
    "    #Функция, срабатывающая при использовании объекта как строки\n",
    "    def __str__(self):\n",
    "        return '\\n'.join((N*'{:3}').format(*[i%(N*N) for i in self.position[i:]]) #\n",
    "\n",
    "for i in range(0, N*N, N))\n",
    "SOLVED = (1, 2, 3, 4, 5, 6, 7, 8, 9, 10, 11, 12, 13, 14, 15, 0)\n",
    "start = [1, 2, 3, 4, 5, 6, 7, 8, 9, 10, 12, 15, 13, 14, 11, 0]\n",
    "\n",
    "#Проверяем, можно ли в данной расстановке найти решение\n",
    "if parity(start) == 0:\n",
    "    print('Решения нет!')\n",
    "else:\n",
    "    start = tuple(start)\n",
    "\n",
    "    p = Position(start, 0)\n",
    "\n",
    "    print(p)\n",
    "    print()\n",
    "\n",
    "    #Передаем в очередь с приоритетом первоначальную позицию\n",
    "    candidates = PriorityQueue()\n",
    "    candidates.put(p)\n",
    "\n",
    "    #Кортеж посещенных позиций\n",
    "    visited = set([p])\n",
    "\n",
    "    came_from = {p.position: None}\n",
    "    \n",
    "    while p.position != SOLVED:\n",
    "        #Извлекаем из очереди позицию с наименьшим приоритетом\n",
    "        p = candidates.get()\n",
    "        #Кладем в очередь все соседние позиции. Повторяем пока не вытащим конечную позицию из очереди\n",
    "        for k in moves(p.position):\n",
    "            if k not in visited:\n",
    "                candidates.put(Position(k, p.start_distance + 1))\n",
    "                came_from[k] = p\n",
    "                visited.add(k)\n",
    "\n",
    "    #Последовательное решение пятнашек\n",
    "    path = []\n",
    "    #Конечная позиция\n",
    "    prev = p\n",
    "    #Идем в обратном порядке и запоминаем очередность хода в path\n",
    "    while p.position != start:\n",
    "        #Запоминаем откуда ход\n",
    "        p = came_from[p.position]\n",
    "        number = p.position[prev.position.index(0)]\n",
    "        path.append(number)\n",
    "        prev = p\n",
    "    path.reverse()\n",
    "\n",
    "    print(path)"
   ]
  },
  {
   "cell_type": "markdown",
   "id": "arbitrary-amazon",
   "metadata": {},
   "source": [
    "### Вывод"
   ]
  },
  {
   "cell_type": "markdown",
   "id": "a5d11874",
   "metadata": {},
   "source": [
    "Выполняя лабораторную работу, мы познакомились с алгоритмом Кнута-Морриса-Пратта и прощенным алгоритмом Бойера-Мура, а затем реализовали их. Время поиска сравнили со стандартной функицей поиска в строке. Наиболее быстрым оказался агоритм Бойера-Мура. Также был реализован процесс игры в пятнашки."
   ]
  }
 ],
 "metadata": {
  "kernelspec": {
   "display_name": "Python 3 (ipykernel)",
   "language": "python",
   "name": "python3"
  },
  "language_info": {
   "codemirror_mode": {
    "name": "ipython",
    "version": 3
   },
   "file_extension": ".py",
   "mimetype": "text/x-python",
   "name": "python",
   "nbconvert_exporter": "python",
   "pygments_lexer": "ipython3",
   "version": "3.9.7"
  }
 },
 "nbformat": 4,
 "nbformat_minor": 5
}
