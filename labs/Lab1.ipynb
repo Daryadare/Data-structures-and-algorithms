{
 "cells": [
  {
   "cell_type": "markdown",
   "id": "a3a6c606",
   "metadata": {},
   "source": [
    "# Лабораторная работа №1\n",
    "## Выполнила студентка группы БФИ2001 Калмыкова Дарья Сергеевна"
   ]
  },
  {
   "cell_type": "markdown",
   "id": "particular-syndicate",
   "metadata": {},
   "source": [
    "### Оглавление\n",
    "1. [Задание 1](#Задание-№1)\n",
    "2. [Задание 2](#Задание-№2)\n",
    "3. [Задание 3](#Задание-№3)\n",
    "4. [Вывод](#Вывод)"
   ]
  },
  {
   "cell_type": "markdown",
   "id": "arctic-stocks",
   "metadata": {},
   "source": [
    "### Задание №1\n",
    "<i> Вызвать функцию print() и передать туда строку Hello, World! </i>"
   ]
  },
  {
   "cell_type": "code",
   "execution_count": 1,
   "id": "caring-truck",
   "metadata": {
    "scrolled": true
   },
   "outputs": [
    {
     "name": "stdout",
     "output_type": "stream",
     "text": [
      "Hello, world!\n"
     ]
    }
   ],
   "source": [
    "print('Hello, world!')"
   ]
  },
  {
   "cell_type": "markdown",
   "id": "maritime-conversation",
   "metadata": {},
   "source": [
    "### Задание №2\n",
    "Написать генератор случайных матриц(многомерных), который принимает\n",
    "опциональные параметры <b>m</b>, <b>n</b>, <b>min_limit</b>, <b>max_limit</b>, где <b>m</b> и <b>n</b> указывают размер\n",
    "матрицы, а <b>min_lim</b> и <b>max_lim</b> - минимальное и максимальное значение для\n",
    "генерируемого числа."
   ]
  },
  {
   "cell_type": "code",
   "execution_count": 2,
   "id": "built-contact",
   "metadata": {},
   "outputs": [],
   "source": [
    "import random \n",
    "from random import randint \n",
    "import time"
   ]
  },
  {
   "cell_type": "code",
   "execution_count": 3,
   "id": "alert-charm",
   "metadata": {},
   "outputs": [],
   "source": [
    "def create_matrix():\n",
    "    user_m = int(input('Введите количество стобцов: '))\n",
    "    user_n = int(input('Введите количество строк: '))\n",
    "    user_min_limit = int(input('Введите минимальный элемент: '))\n",
    "    user_max_limit = int(input('Введите максимальный элемент: '))\n",
    "    matrix = []\n",
    "    for i in range (user_n):\n",
    "        matrix_1 = []\n",
    "        for j in range (user_m):\n",
    "            matrix_1.append(randint(user_min_limit, user_max_limit))\n",
    "        matrix.append(matrix_1)\n",
    "    return matrix\n",
    "    \n",
    "    \n",
    "def print_matrix(matrix): \n",
    "    for user_n in matrix: \n",
    "        for i in user_n: \n",
    "            print (\"{:3d}\".format(i), end = \"\") \n",
    "        print ()"
   ]
  },
  {
   "cell_type": "code",
   "execution_count": 4,
   "id": "734081d6",
   "metadata": {},
   "outputs": [
    {
     "name": "stdout",
     "output_type": "stream",
     "text": [
      "Введите количество стобцов: 7\n",
      "Введите количество строк: 4\n",
      "Введите минимальный элемент: 0\n",
      "Введите максимальный элемент: 99\n",
      " 77 54 37 60  8 36 12\n",
      " 86 73 39 53 56 83 48\n",
      " 35 23 79 12 59 69  3\n",
      " 21 63 99 10  7  0 14\n"
     ]
    }
   ],
   "source": [
    "base_matrix = create_matrix()\n",
    "print_matrix(base_matrix)"
   ]
  },
  {
   "cell_type": "markdown",
   "id": "catholic-roots",
   "metadata": {},
   "source": [
    "### Задание №3\n",
    "Реализовать методы сортировки строк числовой матрицы в соответствии с\n",
    "заданием. Оценить время работы каждого алгоритма сортировки и сравнить его со\n",
    "временем стандартной функции сортировки. Испытания проводить на сгенерированных\n",
    "матрицах."
   ]
  },
  {
   "cell_type": "code",
   "execution_count": 5,
   "id": "opposed-creature",
   "metadata": {},
   "outputs": [],
   "source": [
    "import copy\n",
    "from heapq import *"
   ]
  },
  {
   "cell_type": "code",
   "execution_count": 6,
   "id": "cleared-anniversary",
   "metadata": {},
   "outputs": [
    {
     "name": "stdout",
     "output_type": "stream",
     "text": [
      "--- 0.441 ms ---\n",
      "  0  7 10 14 21 63 99\n",
      "  3 12 23 35 59 69 79\n",
      "  8 12 36 37 54 60 77\n",
      " 39 48 53 56 73 83 86\n"
     ]
    }
   ],
   "source": [
    "# Сортировка выбором.\n",
    "# Берётся срез массива, в котором минимальный элемент переносят в самый левый угол,\n",
    "# после чего срез уменьшается и цикл повторяется.\n",
    "matrix = copy.deepcopy(base_matrix)\n",
    "\n",
    "def selection_sort(array):\n",
    "    for i in range(len(array) - 1):\n",
    "        m = i\n",
    "        j = i + 1\n",
    "        while j < len(array):\n",
    "            if array[j] < array[m]:\n",
    "                m = j\n",
    "            j += 1\n",
    "        array[i], array[m] = array[m], array[i]\n",
    "    return array\n",
    "\n",
    "start_time = time.perf_counter()\n",
    "\n",
    "for row in matrix:\n",
    "    selection_sort(row)\n",
    "selection_sort(matrix)\n",
    "    \n",
    "print(\"--- {:.3f} ms ---\".format(((time.perf_counter() - start_time)*1000)))\n",
    "print_matrix(matrix)"
   ]
  },
  {
   "cell_type": "code",
   "execution_count": 7,
   "id": "roman-silly",
   "metadata": {
    "scrolled": true
   },
   "outputs": [
    {
     "name": "stdout",
     "output_type": "stream",
     "text": [
      "--- 0.153 ms ---\n",
      "  0  7 10 14 21 63 99\n",
      "  3 12 23 35 59 69 79\n",
      "  8 12 36 37 54 60 77\n",
      " 39 48 53 56 73 83 86\n"
     ]
    }
   ],
   "source": [
    "# Сортировка вставкой.\n",
    "matrix = copy.deepcopy(base_matrix)\n",
    "\n",
    "def insertion_sort(array):\n",
    "    for i in range (1, len(array)):\n",
    "        m = array[i]\n",
    "        j = i - 1\n",
    "        while j >= 0 and m < array[j]:\n",
    "            array[j+1] = array[j]\n",
    "            j -= 1\n",
    "        array[j+1] = m\n",
    "    return array\n",
    "\n",
    "start_time = time.perf_counter()\n",
    "\n",
    "for row in matrix:\n",
    "    insertion_sort(row)   \n",
    "insertion_sort(matrix)\n",
    "\n",
    "print(\"--- {:.3f} ms ---\".format(((time.perf_counter() - start_time)*1000)))\n",
    "print_matrix(matrix)"
   ]
  },
  {
   "cell_type": "code",
   "execution_count": 8,
   "id": "vital-implementation",
   "metadata": {},
   "outputs": [
    {
     "name": "stdout",
     "output_type": "stream",
     "text": [
      "--- 0.171 ms ---\n",
      "  0  7 10 14 21 63 99\n",
      "  3 12 23 35 59 69 79\n",
      "  8 12 36 37 54 60 77\n",
      " 39 48 53 56 73 83 86\n"
     ]
    }
   ],
   "source": [
    "# Сортировка обменом. || Сортировка пузырьком.\n",
    "matrix = copy.deepcopy(base_matrix)\n",
    "\n",
    "def bubble_sort(array):\n",
    "    for i in range (len(array) - 1):\n",
    "        for j in range (len(array) - 1 - i):\n",
    "            if array[j] > array[j+1]:\n",
    "                array[j], array[j+1] = array[j+1], array[j]\n",
    "    return array\n",
    "\n",
    "start_time = time.perf_counter()\n",
    "\n",
    "for row in matrix:\n",
    "    bubble_sort(row)\n",
    "bubble_sort(matrix)    \n",
    "\n",
    "print(\"--- {:.3f} ms ---\".format(((time.perf_counter() - start_time)*1000)))\n",
    "print_matrix(matrix)"
   ]
  },
  {
   "cell_type": "code",
   "execution_count": 9,
   "id": "veterinary-glory",
   "metadata": {},
   "outputs": [
    {
     "name": "stdout",
     "output_type": "stream",
     "text": [
      "--- 0.172 ms ---\n",
      "  0  7 10 14 21 63 99\n",
      "  3 12 23 35 59 69 79\n",
      "  8 12 36 37 54 60 77\n",
      " 39 48 53 56 73 83 86\n"
     ]
    }
   ],
   "source": [
    "# Сортировка Шелла.\n",
    "matrix = copy.deepcopy(base_matrix)\n",
    "\n",
    "def shell_sort(array):\n",
    "    gap = len(array) // 2\n",
    "    while gap > 0:\n",
    "        for i in range (gap, len(array)):\n",
    "            m = array[i]\n",
    "            j = i\n",
    "            while j >= gap and array[j-gap] > m:\n",
    "                array[j] = array[j-gap]\n",
    "                j -= gap\n",
    "            array[j] = m\n",
    "        gap //= 2\n",
    "    return array\n",
    "\n",
    "start_time = time.perf_counter()\n",
    "\n",
    "for row in matrix:\n",
    "    shell_sort(row)\n",
    "shell_sort(matrix)\n",
    "\n",
    "print(\"--- {:.3f} ms ---\".format(((time.perf_counter() - start_time)*1000)))\n",
    "\n",
    "print_matrix(matrix)"
   ]
  },
  {
   "cell_type": "code",
   "execution_count": 10,
   "id": "correct-chaos",
   "metadata": {},
   "outputs": [
    {
     "name": "stdout",
     "output_type": "stream",
     "text": [
      "--- 0.174 ms ---\n",
      " 77 54 37 60  8 36 12\n",
      " 86 73 39 53 56 83 48\n",
      " 35 23 79 12 59 69  3\n",
      " 21 63 99 10  7  0 14\n"
     ]
    }
   ],
   "source": [
    "# Быстрая сортировка.\n",
    "matrix = copy.deepcopy(base_matrix)\n",
    "\n",
    "def quick_sort(array):\n",
    "    if len(array) < 2:\n",
    "        return array\n",
    "    else:\n",
    "        rand_number = array[len(array)//2]\n",
    "        less, equal, bigger = [], [], []\n",
    "        for i in range(len(array)):\n",
    "            if array[i] > rand_number:\n",
    "                bigger.append(array[i])\n",
    "            elif array[i] == rand_number:\n",
    "                equal.append(array[i])\n",
    "            else: \n",
    "                less.append(array[i])\n",
    "    return quick_sort(less) + equal + quick_sort(bigger)\n",
    "\n",
    "start_time = time.perf_counter()\n",
    "\n",
    "for row in matrix:\n",
    "    quick_sort(row)\n",
    "quick_sort(matrix)   \n",
    "\n",
    "print(\"--- {:.3f} ms ---\".format(((time.perf_counter() - start_time)*1000)))\n",
    "print_matrix(matrix)"
   ]
  },
  {
   "cell_type": "code",
   "execution_count": 11,
   "id": "french-czech",
   "metadata": {},
   "outputs": [
    {
     "name": "stdout",
     "output_type": "stream",
     "text": [
      "--- 0.233 ms ---\n",
      "  0  7 10 14 21 63 99\n",
      "  3 12 23 35 59 69 79\n",
      "  8 12 36 37 54 60 77\n",
      " 39 48 53 56 73 83 86\n"
     ]
    }
   ],
   "source": [
    "# Турнирная сортировка.\n",
    "matrix = copy.deepcopy(base_matrix)\n",
    "\n",
    "MAX_SIZE = 32\n",
    "\n",
    "def merge_sort(one, two):\n",
    "    result = []\n",
    "    while len(one) > 0 and len(two) > 0:\n",
    "        if (two[0] < one[0]):\n",
    "            result.append(two.pop(0))\n",
    "        else:\n",
    "            result.append(one.pop(0))        \n",
    "    length_one = len(one)\n",
    "    length_two = len(two)\n",
    "    \n",
    "    if (length_one == 0 and length_two == 0):\n",
    "        return result\n",
    "    if (length_one > 0):\n",
    "        result += one\n",
    "    else:\n",
    "        result += two               \n",
    "    return result\n",
    "\n",
    "def optimal_tournament_sort(values):\n",
    "    heap = []\n",
    "    for i in values:\n",
    "        heappush(heap, i)\n",
    "    for i in range(len(heap)):\n",
    "        values[i] = heappop(heap)\n",
    "    return values\n",
    "                \n",
    "def bracketize(values):\n",
    "    heap = []\n",
    "    while len(heap) <= MAX_SIZE:\n",
    "        heappush(heap, values.pop(0))\n",
    "    winners = []\n",
    "    losers = []\n",
    "    \n",
    "    while len(values) > 0:\n",
    "        if len(winners) == 0:\n",
    "            winners.append(heappop(heap))\n",
    "        if values[0] > winners[-1]:\n",
    "            heappush(heap, values.pop(0))\n",
    "        else:\n",
    "            losers.append(values.pop(0))\n",
    "        if len(heap) > 0:\n",
    "            winners.append(heappop(heap))\n",
    "            \n",
    "    while len(heap) > 0:\n",
    "        winners.append(heappop(heap))\n",
    "    if len(losers) == 0:\n",
    "        return winners\n",
    "    return merge_sort(tournament_sort(losers), winners)\n",
    "\n",
    "def tournament_sort(values):\n",
    "    if (len(values) <= MAX_SIZE):\n",
    "        return optimal_tournament_sort(values)\n",
    "    else:\n",
    "        return bracketize(values)\n",
    "    \n",
    "start_time = time.perf_counter()\n",
    "\n",
    "for row in matrix:\n",
    "    tournament_sort(row)\n",
    "tournament_sort(matrix)    \n",
    "\n",
    "print(\"--- {:.3f} ms ---\".format(((time.perf_counter() - start_time)*1000)))\n",
    "print_matrix(matrix)"
   ]
  },
  {
   "cell_type": "code",
   "execution_count": 12,
   "id": "66b5ef22",
   "metadata": {},
   "outputs": [
    {
     "name": "stdout",
     "output_type": "stream",
     "text": [
      "--- 0.203 ms ---\n",
      "  0  7 10 14 21 63 99\n",
      "  3 12 23 35 59 69 79\n",
      "  8 12 36 37 54 60 77\n",
      " 39 48 53 56 73 83 86\n"
     ]
    }
   ],
   "source": [
    "# Стандартная функция сортировки\n",
    "matrix = copy.deepcopy(base_matrix)\n",
    "\n",
    "start_time = time.perf_counter()\n",
    "\n",
    "for row in matrix:\n",
    "    row.sort()\n",
    "matrix.sort()    \n",
    "\n",
    "print(\"--- {:.3f} ms ---\".format(((time.perf_counter() - start_time)*1000)))\n",
    "print_matrix(matrix)"
   ]
  },
  {
   "cell_type": "markdown",
   "id": "rental-jerusalem",
   "metadata": {},
   "source": [
    "### Вывод\n"
   ]
  },
  {
   "cell_type": "markdown",
   "id": "6ee03f03",
   "metadata": {},
   "source": [
    "В ходе лабораторной работы были реализованы различные методы сортировки матриц. По итогам было выяснено, что самой эффективной сортировкой является сортировка вставкой. Следущими по временному показателю оказались сортировка обменом и встроенная функция сортировки."
   ]
  }
 ],
 "metadata": {
  "kernelspec": {
   "display_name": "Python 3 (ipykernel)",
   "language": "python",
   "name": "python3"
  },
  "language_info": {
   "codemirror_mode": {
    "name": "ipython",
    "version": 3
   },
   "file_extension": ".py",
   "mimetype": "text/x-python",
   "name": "python",
   "nbconvert_exporter": "python",
   "pygments_lexer": "ipython3",
   "version": "3.9.7"
  }
 },
 "nbformat": 4,
 "nbformat_minor": 5
}
