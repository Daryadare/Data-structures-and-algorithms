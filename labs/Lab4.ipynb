{
 "cells": [
  {
   "cell_type": "markdown",
   "id": "9d840c44",
   "metadata": {},
   "source": [
    "# Лабораторная работа №4\n",
    "## Выполнила студентка группы БФИ2001 Калмыкова Дарья Сергеевна"
   ]
  },
  {
   "cell_type": "markdown",
   "id": "arctic-stocks",
   "metadata": {},
   "source": [
    "Реализовать следующие структуры данных:\n",
    "  \n",
    "● <b> Стек (stack): </b>  \n",
    "Операции для стека: \n",
    "<i> инициализация, проверка на пустоту, добавление нового элемента в начало, извлечение элемента из начала;  </i>  \n",
    "  \n",
    "● <b> Дек (двусторонняя очередь, deque):  </b>  \n",
    "Операции для дека: \n",
    "<i> инициализация, проверка на пустоту, добавление нового элемента в начало, добавление нового элемента в конец, извлечение элемента из начала, извлечение элемента из конца. </i>  \n",
    "  \n",
    "<i> Разработать программу обработки данных, содержащихся в заранее подготовленном txt-файле, в соответствии с заданиями, применив указанную в задании структуру данных. Результат работы программы вывести на экран и сохранить в отдельном txt-файле. </i>"
   ]
  },
  {
   "cell_type": "code",
   "execution_count": 1,
   "id": "cbcb36ab",
   "metadata": {},
   "outputs": [],
   "source": [
    "class Stack:\n",
    "    def __init__(self):\n",
    "        self.items = []\n",
    "\n",
    "    def isEmpty(self):\n",
    "        return self.items == []\n",
    "\n",
    "    def push(self, item):\n",
    "        self.items.append(item)\n",
    "\n",
    "    def pop(self):\n",
    "        return self.items.pop()\n",
    "\n",
    "    def peek(self):\n",
    "        return self.items[len(self.items) - 1]\n",
    "    \n",
    "    def size(self):\n",
    "        return len(self.items)"
   ]
  },
  {
   "cell_type": "code",
   "execution_count": 2,
   "id": "64f688cc",
   "metadata": {},
   "outputs": [],
   "source": [
    "class Deque:\n",
    "    def __init__(self):\n",
    "        self.items = []\n",
    "\n",
    "    def isEmpty(self):\n",
    "        return self.items == []\n",
    "\n",
    "    def addFront(self, item):\n",
    "        self.items.append(item)\n",
    "\n",
    "    def addRear(self, item):\n",
    "        self.items.insert(0,item)\n",
    "\n",
    "    def removeFront(self):\n",
    "        return self.items.pop()\n",
    "\n",
    "    def removeRear(self):\n",
    "        return self.items.pop(0)\n",
    "    \n",
    "    def peekFront(self):\n",
    "        return self.items[len(self.items) - 1]\n",
    "    \n",
    "    def size(self):\n",
    "        return len(self.items)"
   ]
  },
  {
   "cell_type": "markdown",
   "id": "5d7edb08",
   "metadata": {
    "scrolled": true
   },
   "source": [
    "### Задание №1\n",
    "Отсортировать строки файла, содержащие названия книг, в алфавитном порядке с использованием двух деков."
   ]
  },
  {
   "cell_type": "code",
   "execution_count": 3,
   "id": "f31acfce",
   "metadata": {},
   "outputs": [
    {
     "name": "stdout",
     "output_type": "stream",
     "text": [
      "THE ORIGINAL ORDER: \n",
      "\n",
      "Twighlight \n",
      "\n",
      "Crime and punishment\n",
      "\n",
      "Hero of our time\n",
      "\n",
      "Dead souls\n",
      "\n",
      "Woe from wit\n",
      "\n",
      "Fathers and sons\n",
      "\n",
      "THE ALPHABETICAL ORDER: \n",
      "\n",
      "Crime and punishment\n",
      "\n",
      "Dead souls\n",
      "\n",
      "Fathers and sons\n",
      "\n",
      "Hero of our time\n",
      "\n",
      "Twighlight \n",
      "\n",
      "Woe from wit\n",
      "\n"
     ]
    }
   ],
   "source": [
    "def alphabetical_order(txt):\n",
    "    print('THE ORIGINAL ORDER: \\n')\n",
    "    with open(txt, 'r', encoding = 'utf-8') as books:\n",
    "        for item in books:\n",
    "            print(item)\n",
    "    \n",
    "    print('THE ALPHABETICAL ORDER: \\n')\n",
    "    with open(txt, 'r', encoding = 'utf-8') as journal: \n",
    "        d1 = Deque()\n",
    "        d2 = Deque()\n",
    "        for el in journal:\n",
    "            d1.addFront(el)\n",
    "        while not d1.isEmpty():\n",
    "            element = d1.removeFront()\n",
    "            while not d2.isEmpty() and d2.peekFront() > element:\n",
    "                d1.addRear(d2.removeFront())\n",
    "            d2.addFront(element)\n",
    "        while not d2.isEmpty():\n",
    "            print(d2.removeRear())\n",
    "            \n",
    "alphabetical_order('C:\\\\Users\\\\User\\\\Desktop\\\\jupyter_note\\\\labs\\\\lab4txt\\\\file1.txt')"
   ]
  },
  {
   "cell_type": "markdown",
   "id": "49fbd2a0",
   "metadata": {},
   "source": [
    "### Задание №2\n",
    "Дек содержит последовательность символов для шифровки сообщений. Дан текстовый файл, содержащий зашифрованное сообщение. Пользуясь деком, расшифровать текст. \n",
    "Известно, что при шифровке каждый символ сообщения заменялся следующим за ним в деке по часовой стрелке через один."
   ]
  },
  {
   "cell_type": "code",
   "execution_count": 4,
   "id": "81cab7a8",
   "metadata": {},
   "outputs": [
    {
     "name": "stdout",
     "output_type": "stream",
     "text": [
      "Шифр: нптмрсоэаьыдвибжхцзкёйълфяшюгщчеу\n",
      "Изначальное сообщение: кажется дождь собирается\n",
      "Зашифрованное сообщение: цоищнмл ьриьэ мрвдтощнмл\n",
      "Расшифрованное сообщение: кажется дождь собирается\n"
     ]
    }
   ],
   "source": [
    "import random\n",
    "\n",
    "alphabet = list('абвгдеёжзийклмнопрстуфхцчшщъыьэюя')\n",
    "random.shuffle(alphabet)\n",
    "alphabet = ''.join(alphabet)\n",
    "print('Шифр:', alphabet)\n",
    "\n",
    "d = Deque()\n",
    "for letter in alphabet:\n",
    "    d.addFront(letter)\n",
    "    \n",
    "mess = 'кажется дождь собирается'\n",
    "print('Изначальное сообщение:', mess)\n",
    "\n",
    "def encoding(pack, d):\n",
    "    pack = list(pack)\n",
    "    for i in range(len(pack)):\n",
    "        for j in range(d.size()):\n",
    "            symb = d.removeFront()\n",
    "            if symb == pack[i]:\n",
    "                d.addRear(symb)\n",
    "                d.addRear(d.removeFront())\n",
    "                symb = d.removeFront()\n",
    "                pack[i] = symb\n",
    "            d.addRear(symb)\n",
    "    return ''.join(pack)\n",
    "\n",
    "def decoding(pack, d):\n",
    "    pack = list(pack)\n",
    "    for i in range(len(pack)):\n",
    "        for j in range(d.size()):\n",
    "            symb = d.removeFront()\n",
    "            if symb == pack[i]:\n",
    "                d.addFront(symb)\n",
    "                d.addFront(d.removeRear())\n",
    "                symb = d.removeRear()\n",
    "                pack[i] = symb\n",
    "            d.addFront(symb)\n",
    "    return ''.join(pack)\n",
    "\n",
    "print('Зашифрованное сообщение:', encoding(mess, d))\n",
    "print('Расшифрованное сообщение:', decoding(mess, d))"
   ]
  },
  {
   "cell_type": "markdown",
   "id": "c0894f47",
   "metadata": {},
   "source": [
    "### Задание №3\n",
    "Даны три стержня и n дисков различного размера. Диски можно надевать на стержни, образуя из них башни. Перенести n дисков со стержня А на стержень С, сохранив их первоначальный порядок. При переносе дисков необходимо соблюдать следующие правила:\n",
    "- на каждом шаге со стержня на стержень переносить только один диск;\n",
    "- диск нельзя помещать на диск меньшего размера;\n",
    "- для промежуточного хранения можно использовать стержень В.\n",
    "Реализовать алгоритм, используя три стека вместо стержней А, В, С. Информация о дисках хранится в исходном файле."
   ]
  },
  {
   "cell_type": "code",
   "execution_count": 5,
   "id": "9e91a9d4",
   "metadata": {},
   "outputs": [
    {
     "name": "stdout",
     "output_type": "stream",
     "text": [
      "1\n",
      "2\n",
      "3\n",
      "4\n",
      "5\n"
     ]
    }
   ],
   "source": [
    "a = Stack()\n",
    "b = Stack()\n",
    "c = Stack()\n",
    "\n",
    "disks = 5\n",
    "for i in range (disks, 0, -1):\n",
    "    a.push(i)\n",
    "    \n",
    "def move(x, y):\n",
    "    if x.size() == 0 and y.size() > 0:\n",
    "        x.push(y.pop())\n",
    "    elif x.size() > 0 and y.size() == 0:\n",
    "        y.push(x.pop())\n",
    "    elif x.peek() > y.peek():\n",
    "        x.push(y.pop())\n",
    "    else:\n",
    "        y.push(x.pop())\n",
    "        \n",
    "if disks % 2 == 0:\n",
    "    while c.size() != disks:\n",
    "        move(a, b)\n",
    "        move(a, c)\n",
    "        move(b, c)\n",
    "else:\n",
    "    while c.size() != disks:\n",
    "        move(a, c)\n",
    "        if c.size() == disks:\n",
    "            break\n",
    "        move(a, b)\n",
    "        move(b, c)\n",
    "        \n",
    "while not c.isEmpty():\n",
    "    print(c.pop())"
   ]
  },
  {
   "cell_type": "markdown",
   "id": "e5b0be17",
   "metadata": {},
   "source": [
    "### Задание №4\n",
    "Дан текстовый файл с программой на алгоритмическом языке. За один просмотр файла проверить баланс круглых скобок в тексте, используя стек."
   ]
  },
  {
   "cell_type": "code",
   "execution_count": 6,
   "id": "5b1df60a",
   "metadata": {},
   "outputs": [
    {
     "name": "stdout",
     "output_type": "stream",
     "text": [
      "THE ORIGINAL FILE:\n",
      "y = x(2*5(10+1)^2+(3x(2-5(6))(7x-8)13))\n",
      " \n",
      "THE RESULT:\n",
      "Скобки сбалансированы!\n"
     ]
    }
   ],
   "source": [
    "s = Stack()\n",
    "\n",
    "def round_brackets(txt):\n",
    "    print('THE ORIGINAL FILE:')\n",
    "    with open(txt, 'r', encoding = 'utf-8') as books:\n",
    "        for item in books:\n",
    "            print(item)\n",
    "        print(' ')\n",
    "    \n",
    "    print('THE RESULT:')\n",
    "    with open(txt, 'r', encoding = 'utf-8') as journal:\n",
    "        symbols = journal.readline()\n",
    "    \n",
    "        for el in symbols:\n",
    "            if el == '(':\n",
    "                s.push(el)\n",
    "            elif el == ')':\n",
    "                if s.isEmpty():\n",
    "                    break\n",
    "                s.pop()\n",
    "    \n",
    "    if s.isEmpty():\n",
    "        print('Скобки сбалансированы!')\n",
    "    else:\n",
    "        print('Скобки не сбалансированы!')\n",
    "\n",
    "round_brackets('C:\\\\Users\\\\User\\\\Desktop\\\\jupyter_note\\\\labs\\\\lab4txt\\\\file4.txt')"
   ]
  },
  {
   "cell_type": "markdown",
   "id": "c44cdd6b",
   "metadata": {},
   "source": [
    "### Задание №5\n",
    "Дан текстовый файл с программой на алгоритмическом языке. За один просмотр файла проверить баланс квадратных скобок в тексте, используя дек."
   ]
  },
  {
   "cell_type": "code",
   "execution_count": 7,
   "id": "36b8f400",
   "metadata": {},
   "outputs": [
    {
     "name": "stdout",
     "output_type": "stream",
     "text": [
      "THE ORIGINAL FILE:\n",
      "[massiv[array]][i][[list]\n",
      " \n",
      "THE RESULT:\n",
      "Скобки не сбалансированы!\n"
     ]
    }
   ],
   "source": [
    "d = Deque()\n",
    "\n",
    "def square_brackets(txt):\n",
    "    print('THE ORIGINAL FILE:')\n",
    "    with open(txt, 'r', encoding = 'utf-8') as books:\n",
    "        for item in books:\n",
    "            print(item)\n",
    "        print(' ')\n",
    "    \n",
    "    print('THE RESULT:')\n",
    "    with open(txt, 'r', encoding = 'utf-8') as journal:\n",
    "        symbols = journal.readline()  \n",
    "        \n",
    "        for el in symbols:\n",
    "            if el == '[':\n",
    "                d.addFront(el)\n",
    "            elif el == ']':\n",
    "                if d.isEmpty():\n",
    "                    break\n",
    "                d.removeRear()\n",
    "\n",
    "    if d.isEmpty():\n",
    "        print('Скобки сбалансированы!')\n",
    "    else:\n",
    "        print('Скобки не сбалансированы!')\n",
    "        \n",
    "square_brackets('C:\\\\Users\\\\User\\\\Desktop\\\\jupyter_note\\\\labs\\\\lab4txt\\\\file5.txt')"
   ]
  },
  {
   "cell_type": "markdown",
   "id": "59d13dc7",
   "metadata": {},
   "source": [
    "### Задание №6\n",
    "Дан файл из символов. Используя стек, за один просмотр файла напечатать сначала все цифры, затем все буквы, и, наконец, все остальные символы, сохраняя исходный порядок в каждой группе символов."
   ]
  },
  {
   "cell_type": "code",
   "execution_count": 8,
   "id": "1e4c7924",
   "metadata": {
    "scrolled": true
   },
   "outputs": [
    {
     "name": "stdout",
     "output_type": "stream",
     "text": [
      "THE ORIGINAL ORDER IN FILE:\n",
      "wel1l ^ wh8at_EvEn!lif3 i8?\n",
      " \n",
      "CHANGED ORDER IN FILE:\n",
      "1838wellwhatEvEnlifi ^ _! ?\n"
     ]
    }
   ],
   "source": [
    "letters = Stack()\n",
    "symbols = Stack()\n",
    "\n",
    "def bottomInsert(s, value):\n",
    "    if s.isEmpty():\n",
    "        s.push(value)\n",
    "    else:\n",
    "        popped = s.pop()\n",
    "        bottomInsert(s, value)\n",
    "        s.push(popped)\n",
    "\n",
    "def reverse(s):\n",
    "    if s.isEmpty():\n",
    "        pass\n",
    "    else:\n",
    "        popped = s.pop()\n",
    "        reverse(s)\n",
    "        bottomInsert(s, popped)\n",
    "\n",
    "def order(txt):\n",
    "    print('THE ORIGINAL ORDER IN FILE:')\n",
    "    with open(txt, 'r', encoding = 'utf-8') as books:\n",
    "        for item in books:\n",
    "            print(item)\n",
    "        print(' ')\n",
    "        \n",
    "    print('CHANGED ORDER IN FILE:')\n",
    "    with open(txt, 'r', encoding = 'utf-8') as journal:\n",
    "        sequence = ''\n",
    "        while True:\n",
    "            elem = journal.readline(1)\n",
    "            if not elem:\n",
    "                break\n",
    "            if elem.isdigit():\n",
    "                sequence += elem\n",
    "            elif elem.isalpha():\n",
    "                letters.push(elem)\n",
    "            else:\n",
    "                symbols.push(elem)\n",
    "                \n",
    "        reverse(letters)\n",
    "        reverse(symbols)\n",
    "        \n",
    "        while not letters.isEmpty():\n",
    "            sequence += letters.pop()\n",
    "        while not symbols.isEmpty():\n",
    "            sequence += symbols.pop()\n",
    "\n",
    "    return sequence\n",
    "\n",
    "print(order('C:\\\\Users\\\\User\\\\Desktop\\\\jupyter_note\\\\labs\\\\lab4txt\\\\file6.txt'))"
   ]
  },
  {
   "cell_type": "markdown",
   "id": "973f68bd",
   "metadata": {},
   "source": [
    "### Задание №7\n",
    "Дан файл из целых чисел. Используя дек, за один просмотр файла напечатать сначала все отрицательные числа, затем все положительные числа, сохраняя исходный порядок в каждой группе."
   ]
  },
  {
   "cell_type": "code",
   "execution_count": 9,
   "id": "c56fad66",
   "metadata": {
    "scrolled": false
   },
   "outputs": [
    {
     "name": "stdout",
     "output_type": "stream",
     "text": [
      "THE ORIGINAL ORDER IN FILE:\n",
      "3 \n",
      "\n",
      "-2 \n",
      "\n",
      "17 \n",
      "\n",
      "5 \n",
      "\n",
      "-8 \n",
      "\n",
      "-1 \n",
      "\n",
      "14 \n",
      "\n",
      "-3\n",
      " \n",
      "CHANGED ORDER IN FILE:\n",
      "-2 \n",
      "\n",
      "-8 \n",
      "\n",
      "-1 \n",
      "\n",
      "-3\n",
      "\n",
      " 3\n",
      "\n",
      " 17\n",
      "\n",
      " 5\n",
      "\n",
      " 14\n"
     ]
    }
   ],
   "source": [
    "d = Deque()\n",
    "\n",
    "def digits(txt):\n",
    "    print('THE ORIGINAL ORDER IN FILE:')\n",
    "    with open(txt, 'r', encoding = 'utf-8') as books:\n",
    "        for item in books:\n",
    "            print(item)\n",
    "        print(' ')\n",
    "        \n",
    "    print('CHANGED ORDER IN FILE:')\n",
    "    with open(txt, 'r', encoding = 'utf-8') as journal:\n",
    "        for elem in journal:\n",
    "            d.addRear(elem)\n",
    "        x = []\n",
    "        for i in range (d.size()):\n",
    "            if (int)(d.peekFront()) < 0:\n",
    "                print(d.removeFront())\n",
    "            else: \n",
    "                x.append((int)(d.removeFront()))\n",
    "        for i in x:\n",
    "            print(\"\\n\", i)  \n",
    "\n",
    "digits('C:\\\\Users\\\\User\\\\Desktop\\\\jupyter_note\\\\labs\\\\lab4txt\\\\file7.txt')"
   ]
  },
  {
   "cell_type": "markdown",
   "id": "b9228191",
   "metadata": {},
   "source": [
    "### Задание №8\n",
    "Дан текстовый файл. Используя стек, сформировать новый текстовый файл, содержащий строки исходного файла, записанные в обратном порядке: первая строка становится последней, вторая – предпоследней и т.д."
   ]
  },
  {
   "cell_type": "code",
   "execution_count": 10,
   "id": "981fbdfe",
   "metadata": {},
   "outputs": [
    {
     "name": "stdout",
     "output_type": "stream",
     "text": [
      "THE ORIGINAL ORDER IN FILE:\n",
      "и хрипло кричат им птицы\n",
      "\n",
      "что мир останется прежним\n",
      "\n",
      "да останется прежним\n",
      "\n",
      "ослепительно снежным\n",
      "\n",
      "и сомнительно нежным\n",
      "\n",
      "мир отсанется лживым\n",
      "\n",
      "мир останется вечным\n",
      "\n",
      "может быть постижимым\n",
      "\n",
      "но все-таки бесконечным\n",
      " \n",
      "CHANGED ORDER IN A NEW FILE:\n",
      "но все-таки бесконечным\n",
      "может быть постижимым\n",
      "\n",
      "мир останется вечным\n",
      "\n",
      "мир отсанется лживым\n",
      "\n",
      "и сомнительно нежным\n",
      "\n",
      "ослепительно снежным\n",
      "\n",
      "да останется прежним\n",
      "\n",
      "что мир останется прежним\n",
      "\n",
      "и хрипло кричат им птицы\n",
      "\n"
     ]
    }
   ],
   "source": [
    "s = Stack()\n",
    "\n",
    "def reverse_text(txt):\n",
    "    print('THE ORIGINAL ORDER IN FILE:')\n",
    "    with open(txt, 'r', encoding = 'utf-8') as books:\n",
    "        for item in books:\n",
    "            print(item)\n",
    "        print(' ')\n",
    "        \n",
    "    print('CHANGED ORDER IN A NEW FILE:')\n",
    "    with open(txt, 'r', encoding = 'utf-8') as journal: \n",
    "        for element in journal:\n",
    "            s.push(element)\n",
    "        Journal = open('file8new.txt', 'w+')\n",
    "        for i in range (s.size()):\n",
    "            print(s.peek())\n",
    "            Journal.write(s.pop())\n",
    "        Journal.close()\n",
    "        \n",
    "reverse_text('C:\\\\Users\\\\User\\\\Desktop\\\\jupyter_note\\\\labs\\\\lab4txt\\\\file8.txt')"
   ]
  },
  {
   "cell_type": "markdown",
   "id": "rental-jerusalem",
   "metadata": {},
   "source": [
    "### Вывод\n"
   ]
  },
  {
   "cell_type": "markdown",
   "id": "511ae972",
   "metadata": {},
   "source": [
    "Выполняя лабораторную работу, мы познакомились с такими структурами данных, как стек и дек, а также применили их на практике для решения задач."
   ]
  }
 ],
 "metadata": {
  "kernelspec": {
   "display_name": "Python 3 (ipykernel)",
   "language": "python",
   "name": "python3"
  },
  "language_info": {
   "codemirror_mode": {
    "name": "ipython",
    "version": 3
   },
   "file_extension": ".py",
   "mimetype": "text/x-python",
   "name": "python",
   "nbconvert_exporter": "python",
   "pygments_lexer": "ipython3",
   "version": "3.9.7"
  }
 },
 "nbformat": 4,
 "nbformat_minor": 5
}
