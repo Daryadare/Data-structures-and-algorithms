{
 "cells": [
  {
   "cell_type": "markdown",
   "metadata": {
    "id": "WPvB9TcMmKA6"
   },
   "source": [
    "# Лабораторная работа №5\n",
    "# Рекурсия. Фракталы."
   ]
  },
  {
   "cell_type": "markdown",
   "metadata": {
    "id": "96Gi_LEvmSVH"
   },
   "source": [
    "## Выполнила студентка группы БФИ2001 Калмыкова Дарья Сергеевна\n",
    "***"
   ]
  },
  {
   "cell_type": "markdown",
   "metadata": {
    "id": "4clYOyb0mbEv"
   },
   "source": [
    "### Задание:\n",
    "Реализовать генерацию заданного типа фрактала с применением рекурсивных функций.\n",
    "\n",
    "\n",
    "Добавить возможность задания глубины фрактала. \n",
    "\n",
    "\n",
    "Оценить глубину рекурсии. \n",
    "\n",
    "\n",
    "Построить таблицу зависимости времени построения от глубины фрактала."
   ]
  },
  {
   "cell_type": "markdown",
   "metadata": {
    "id": "wDXHbUmMmhRL"
   },
   "source": [
    "### Список фракталов:\n",
    "\n",
    "Кривая Коха\n",
    "| Кривая Гильберта\n",
    "| Кривая Серпинского\n",
    "| Салфетка Серпинского\n",
    "| Ковер Серпинского\n",
    "| Дерево Пифагора "
   ]
  },
  {
   "cell_type": "markdown",
   "metadata": {
    "id": "Wggfn8l7nG72"
   },
   "source": [
    "### Выполнение:"
   ]
  },
  {
   "cell_type": "code",
   "execution_count": 1,
   "metadata": {
    "id": "681a95mZnOSa",
    "scrolled": true
   },
   "outputs": [],
   "source": [
    "import turtle\n",
    "import time\n",
    "import pandas as pd"
   ]
  },
  {
   "cell_type": "code",
   "execution_count": 2,
   "metadata": {},
   "outputs": [],
   "source": [
    "def create_Lsystem(iters, axiom, rules):\n",
    "    start_string = axiom\n",
    "    if iters == 0:\n",
    "        return axiom\n",
    "    end_string = \"\"\n",
    "    for _ in range(iters):\n",
    "        end_string = \"\".join(rules[i] if i in rules else i for i in start_string)\n",
    "        start_string = end_string\n",
    "\n",
    "    return end_string\n",
    "\n",
    "        \n",
    "def draw_fractal(t, instructions, angle, distance, x_offset, y_offset, offset_angle):\n",
    "    tStack = []\n",
    "    for cmd in instructions:\n",
    "        if cmd == 'F':\n",
    "            t.forward(distance)\n",
    "        elif cmd == '+':\n",
    "            t.right(angle)\n",
    "        elif cmd == '-':\n",
    "            t.left(angle)\n",
    "        elif cmd == 'C':\n",
    "            t.begin_fill()\n",
    "            t.forward(distance)\n",
    "            t.left(angle)\n",
    "            t.forward(distance)\n",
    "            t.left(angle)\n",
    "            t.forward(distance)\n",
    "            t.left(angle)\n",
    "            t.forward(distance)\n",
    "            t.left(angle)\n",
    "            t.end_fill()\n",
    "        elif cmd == 'f':\n",
    "            t.penup()\n",
    "            t.forward(distance)\n",
    "            t.pendown() \n",
    "        elif cmd == '[':\n",
    "            tStack.append(t.xcor())\n",
    "            tStack.append(t.ycor())\n",
    "            tStack.append(t.heading())\n",
    "        elif cmd == ']':\n",
    "            t.up()\n",
    "            t.setheading(tStack.pop())\n",
    "            t.sety(tStack.pop())\n",
    "            t.setx(tStack.pop())\n",
    "            t.down()"
   ]
  },
  {
   "cell_type": "code",
   "execution_count": 3,
   "metadata": {},
   "outputs": [],
   "source": [
    "t = turtle.Turtle()\n",
    "\n",
    "def main(iterations, axiom, rules, angle, offset_angle = 0, distance = 5, x_offset = -50, y_offset = -30):\n",
    "\n",
    "    instruction = create_Lsystem(iterations, axiom, rules)\n",
    "\n",
    "    t.up()\n",
    "    t.hideturtle()\n",
    "    t.speed(100000)\n",
    "    t.goto(x_offset, y_offset)\n",
    "    t.left(offset_angle)\n",
    "    t.down()\n",
    "    \n",
    "    draw_fractal(t, instruction, angle, distance, x_offset, y_offset, offset_angle)"
   ]
  },
  {
   "cell_type": "code",
   "execution_count": 4,
   "metadata": {
    "scrolled": false
   },
   "outputs": [
    {
     "name": "stdout",
     "output_type": "stream",
     "text": [
      "Хотите хотите построить фрактал? Введите yes или no\n",
      "yes\n",
      "Введите глубину фрактала от 1 до 5: 4\n",
      "Глубина рекурсии: 5\n",
      "Хотите хотите построить фрактал? Введите yes или no\n",
      "no\n"
     ]
    },
    {
     "data": {
      "text/html": [
       "<div>\n",
       "<style scoped>\n",
       "    .dataframe tbody tr th:only-of-type {\n",
       "        vertical-align: middle;\n",
       "    }\n",
       "\n",
       "    .dataframe tbody tr th {\n",
       "        vertical-align: top;\n",
       "    }\n",
       "\n",
       "    .dataframe thead th {\n",
       "        text-align: right;\n",
       "    }\n",
       "</style>\n",
       "<table border=\"1\" class=\"dataframe\">\n",
       "  <thead>\n",
       "    <tr style=\"text-align: right;\">\n",
       "      <th></th>\n",
       "      <th>Глубина фрактала</th>\n",
       "      <th>Время построения в мс</th>\n",
       "    </tr>\n",
       "  </thead>\n",
       "  <tbody>\n",
       "    <tr>\n",
       "      <th>0</th>\n",
       "      <td>4</td>\n",
       "      <td>10488.7575</td>\n",
       "    </tr>\n",
       "  </tbody>\n",
       "</table>\n",
       "</div>"
      ],
      "text/plain": [
       "   Глубина фрактала  Время построения в мс\n",
       "0                 4             10488.7575"
      ]
     },
     "execution_count": 4,
     "metadata": {},
     "output_type": "execute_result"
    }
   ],
   "source": [
    "#Кривая Коха\n",
    "result = []\n",
    "for i in range(5):\n",
    "    data = []\n",
    "    print('Хотите хотите построить фрактал? Введите yes или no')\n",
    "    s = (input())\n",
    "    if s == 'yes':\n",
    "        iterations = int(input('Введите глубину фрактала от 1 до 5: '))\n",
    "        data.append(iterations)\n",
    "        axiom = \"F\"\n",
    "        rules = {\"F\":\"F-F++F-F\"}\n",
    "        angle = 60\n",
    "        start_time = time.perf_counter()\n",
    "        main(iterations, axiom, rules, angle)\n",
    "        data.append(((time.perf_counter() - start_time)*1000))\n",
    "        result.append(data)\n",
    "        print('Глубина рекурсии:', iterations+1)\n",
    "        t.penup()\n",
    "        t.backward(-70)\n",
    "        t.clear()\n",
    "        t.pendown()\n",
    "    elif s == 'no':\n",
    "        break\n",
    "\n",
    "pd.DataFrame(result, columns = [\"Глубина фрактала\", \"Время построения в мс\"])"
   ]
  },
  {
   "cell_type": "code",
   "execution_count": 5,
   "metadata": {},
   "outputs": [
    {
     "name": "stdout",
     "output_type": "stream",
     "text": [
      "Хотите хотите построить фрактал? Введите yes или no\n",
      "yes\n",
      "Введите глубину фрактала от 1 до 5: 4\n",
      "Глубина рекурсии: 5\n",
      "Хотите хотите построить фрактал? Введите yes или no\n",
      "yes\n",
      "Введите глубину фрактала от 1 до 5: 4\n",
      "Глубина рекурсии: 5\n",
      "Хотите хотите построить фрактал? Введите yes или no\n",
      "no\n"
     ]
    },
    {
     "data": {
      "text/html": [
       "<div>\n",
       "<style scoped>\n",
       "    .dataframe tbody tr th:only-of-type {\n",
       "        vertical-align: middle;\n",
       "    }\n",
       "\n",
       "    .dataframe tbody tr th {\n",
       "        vertical-align: top;\n",
       "    }\n",
       "\n",
       "    .dataframe thead th {\n",
       "        text-align: right;\n",
       "    }\n",
       "</style>\n",
       "<table border=\"1\" class=\"dataframe\">\n",
       "  <thead>\n",
       "    <tr style=\"text-align: right;\">\n",
       "      <th></th>\n",
       "      <th>Глубина фрактала</th>\n",
       "      <th>Время построения в мс</th>\n",
       "    </tr>\n",
       "  </thead>\n",
       "  <tbody>\n",
       "    <tr>\n",
       "      <th>0</th>\n",
       "      <td>4</td>\n",
       "      <td>10178.1232</td>\n",
       "    </tr>\n",
       "    <tr>\n",
       "      <th>1</th>\n",
       "      <td>4</td>\n",
       "      <td>10399.9309</td>\n",
       "    </tr>\n",
       "  </tbody>\n",
       "</table>\n",
       "</div>"
      ],
      "text/plain": [
       "   Глубина фрактала  Время построения в мс\n",
       "0                 4             10178.1232\n",
       "1                 4             10399.9309"
      ]
     },
     "execution_count": 5,
     "metadata": {},
     "output_type": "execute_result"
    }
   ],
   "source": [
    "#Кривая Гильберта\n",
    "result = []\n",
    "for i in range(5):\n",
    "    data = []\n",
    "    print('Хотите хотите построить фрактал? Введите yes или no')\n",
    "    s = (input())\n",
    "    if s == 'yes':\n",
    "        iterations = int(input('Введите глубину фрактала от 1 до 5: '))\n",
    "        data.append(iterations)\n",
    "        axiom = \"L\"\n",
    "        rules = {\"L\":\"+RF-LFL-FR+\", \"R\":\"-LF+RFR+FL-\"}\n",
    "        angle = 90\n",
    "        start_time = time.perf_counter()\n",
    "        main(iterations, axiom, rules, angle)\n",
    "        data.append(((time.perf_counter() - start_time)*1000))\n",
    "        result.append(data)\n",
    "        print('Глубина рекурсии:', iterations+1)\n",
    "        t.penup()\n",
    "        t.backward(-70)\n",
    "        t.clear()\n",
    "        t.pendown()\n",
    "    elif s == 'no':\n",
    "        break\n",
    "\n",
    "pd.DataFrame(result, columns = [\"Глубина фрактала\", \"Время построения в мс\"])"
   ]
  },
  {
   "cell_type": "code",
   "execution_count": 6,
   "metadata": {},
   "outputs": [
    {
     "name": "stdout",
     "output_type": "stream",
     "text": [
      "Хотите хотите построить фрактал? Введите yes или no\n",
      "yes\n",
      "Введите глубину фрактала от 1 до 5: 3\n",
      "Глубина рекурсии: 4\n",
      "Хотите хотите построить фрактал? Введите yes или no\n",
      "no\n"
     ]
    },
    {
     "data": {
      "text/html": [
       "<div>\n",
       "<style scoped>\n",
       "    .dataframe tbody tr th:only-of-type {\n",
       "        vertical-align: middle;\n",
       "    }\n",
       "\n",
       "    .dataframe tbody tr th {\n",
       "        vertical-align: top;\n",
       "    }\n",
       "\n",
       "    .dataframe thead th {\n",
       "        text-align: right;\n",
       "    }\n",
       "</style>\n",
       "<table border=\"1\" class=\"dataframe\">\n",
       "  <thead>\n",
       "    <tr style=\"text-align: right;\">\n",
       "      <th></th>\n",
       "      <th>Глубина фрактала</th>\n",
       "      <th>Время построения в мс</th>\n",
       "    </tr>\n",
       "  </thead>\n",
       "  <tbody>\n",
       "    <tr>\n",
       "      <th>0</th>\n",
       "      <td>3</td>\n",
       "      <td>11647.3222</td>\n",
       "    </tr>\n",
       "  </tbody>\n",
       "</table>\n",
       "</div>"
      ],
      "text/plain": [
       "   Глубина фрактала  Время построения в мс\n",
       "0                 3             11647.3222"
      ]
     },
     "execution_count": 6,
     "metadata": {},
     "output_type": "execute_result"
    }
   ],
   "source": [
    "#Кривая Серпинского\n",
    "result = []\n",
    "for i in range(5):\n",
    "    data = []\n",
    "    print('Хотите хотите построить фрактал? Введите yes или no')\n",
    "    s = (input())\n",
    "    if s == 'yes':\n",
    "        iterations = int(input('Введите глубину фрактала от 1 до 5: '))\n",
    "        data.append(iterations)\n",
    "        axiom = \"F+XF+F+XF\"\n",
    "        rules = {\"X\": \"XF-F+F-XF+F+XF-F+F-X\"}\n",
    "        angle = 90\n",
    "        start_time = time.perf_counter()\n",
    "        main(iterations, axiom, rules, angle)\n",
    "        data.append(((time.perf_counter() - start_time)*1000))\n",
    "        result.append(data)\n",
    "        print('Глубина рекурсии:', iterations+1)\n",
    "        t.penup()\n",
    "        t.backward(-70)\n",
    "        t.clear()\n",
    "        t.pendown()\n",
    "    elif s == 'no':\n",
    "        break\n",
    "\n",
    "pd.DataFrame(result, columns = [\"Глубина фрактала\", \"Время построения в мс\"])"
   ]
  },
  {
   "cell_type": "code",
   "execution_count": 7,
   "metadata": {},
   "outputs": [
    {
     "name": "stdout",
     "output_type": "stream",
     "text": [
      "Хотите хотите построить фрактал? Введите yes или no\n",
      "yes\n",
      "Введите глубину фрактала от 1 до 4: 3\n",
      "Глубина рекурсии: 4\n",
      "Хотите хотите построить фрактал? Введите yes или no\n",
      "yes\n",
      "Введите глубину фрактала от 1 до 4: 4\n",
      "Глубина рекурсии: 5\n",
      "Хотите хотите построить фрактал? Введите yes или no\n",
      "no\n"
     ]
    },
    {
     "data": {
      "text/html": [
       "<div>\n",
       "<style scoped>\n",
       "    .dataframe tbody tr th:only-of-type {\n",
       "        vertical-align: middle;\n",
       "    }\n",
       "\n",
       "    .dataframe tbody tr th {\n",
       "        vertical-align: top;\n",
       "    }\n",
       "\n",
       "    .dataframe thead th {\n",
       "        text-align: right;\n",
       "    }\n",
       "</style>\n",
       "<table border=\"1\" class=\"dataframe\">\n",
       "  <thead>\n",
       "    <tr style=\"text-align: right;\">\n",
       "      <th></th>\n",
       "      <th>Глубина фрактала</th>\n",
       "      <th>Время построения в мс</th>\n",
       "    </tr>\n",
       "  </thead>\n",
       "  <tbody>\n",
       "    <tr>\n",
       "      <th>0</th>\n",
       "      <td>3</td>\n",
       "      <td>4830.8763</td>\n",
       "    </tr>\n",
       "    <tr>\n",
       "      <th>1</th>\n",
       "      <td>4</td>\n",
       "      <td>13877.8946</td>\n",
       "    </tr>\n",
       "  </tbody>\n",
       "</table>\n",
       "</div>"
      ],
      "text/plain": [
       "   Глубина фрактала  Время построения в мс\n",
       "0                 3              4830.8763\n",
       "1                 4             13877.8946"
      ]
     },
     "execution_count": 7,
     "metadata": {},
     "output_type": "execute_result"
    }
   ],
   "source": [
    "#Салфетка Серпинского\n",
    "result = []\n",
    "for i in range(4):\n",
    "    data = []\n",
    "    print('Хотите хотите построить фрактал? Введите yes или no')\n",
    "    s = (input())\n",
    "    if s == 'yes':\n",
    "        iterations = int(input('Введите глубину фрактала от 1 до 4: '))\n",
    "        data.append(iterations)\n",
    "        axiom = \"FXF--FF--FF\"\n",
    "        rules = {\"F\":\"FF\", \"X\":\"--FXF++FXF++FXF--\"}\n",
    "        angle = 60\n",
    "        start_time = time.perf_counter()\n",
    "        main(iterations, axiom, rules, angle)\n",
    "        data.append(((time.perf_counter() - start_time)*1000))\n",
    "        result.append(data)\n",
    "        print('Глубина рекурсии:', iterations+1)\n",
    "        t.reset()\n",
    "        t.penup()\n",
    "        t.backward(-70)\n",
    "        t.pendown()\n",
    "    elif s == 'no':\n",
    "        break\n",
    "\n",
    "pd.DataFrame(result, columns = [\"Глубина фрактала\", \"Время построения в мс\"])"
   ]
  },
  {
   "cell_type": "code",
   "execution_count": 9,
   "metadata": {
    "scrolled": true
   },
   "outputs": [
    {
     "name": "stdout",
     "output_type": "stream",
     "text": [
      "Хотите хотите построить фрактал? Введите yes или no\n",
      "yes\n",
      "Введите глубину фрактала от 1 до 3: 2\n",
      "Глубина рекурсии: 3\n",
      "Хотите хотите построить фрактал? Введите yes или no\n",
      "no\n"
     ]
    },
    {
     "data": {
      "text/html": [
       "<div>\n",
       "<style scoped>\n",
       "    .dataframe tbody tr th:only-of-type {\n",
       "        vertical-align: middle;\n",
       "    }\n",
       "\n",
       "    .dataframe tbody tr th {\n",
       "        vertical-align: top;\n",
       "    }\n",
       "\n",
       "    .dataframe thead th {\n",
       "        text-align: right;\n",
       "    }\n",
       "</style>\n",
       "<table border=\"1\" class=\"dataframe\">\n",
       "  <thead>\n",
       "    <tr style=\"text-align: right;\">\n",
       "      <th></th>\n",
       "      <th>Глубина фрактала</th>\n",
       "      <th>Время построения в мс</th>\n",
       "    </tr>\n",
       "  </thead>\n",
       "  <tbody>\n",
       "    <tr>\n",
       "      <th>0</th>\n",
       "      <td>2</td>\n",
       "      <td>18250.7777</td>\n",
       "    </tr>\n",
       "  </tbody>\n",
       "</table>\n",
       "</div>"
      ],
      "text/plain": [
       "   Глубина фрактала  Время построения в мс\n",
       "0                 2             18250.7777"
      ]
     },
     "execution_count": 9,
     "metadata": {},
     "output_type": "execute_result"
    }
   ],
   "source": [
    "#Ковер Серпинского\n",
    "result = []\n",
    "for i in range(3):\n",
    "    data = []\n",
    "    print('Хотите хотите построить фрактал? Введите yes или no')\n",
    "    s = (input())\n",
    "    if s == 'yes':\n",
    "        iterations = int(input('Введите глубину фрактала от 1 до 3: '))\n",
    "        data.append(iterations)\n",
    "        axiom = \"C\"\n",
    "        rules = {\"C\":\"CfCfC-f+C-f+C--f--C--f--C+f-C+f-\", \"f\":\"fff\"}\n",
    "        angle = 90\n",
    "        start_time = time.perf_counter()\n",
    "        main(iterations, axiom, rules, angle)\n",
    "        data.append(((time.perf_counter() - start_time)*1000))\n",
    "        result.append(data)\n",
    "        print('Глубина рекурсии:', iterations+1)\n",
    "        t.penup()\n",
    "        t.backward(-70)\n",
    "        t.clear()\n",
    "        t.pendown()\n",
    "    elif s == 'no':\n",
    "        break\n",
    "\n",
    "pd.DataFrame(result, columns = [\"Глубина фрактала\", \"Время построения в мс\"])"
   ]
  },
  {
   "cell_type": "code",
   "execution_count": 10,
   "metadata": {},
   "outputs": [
    {
     "name": "stdout",
     "output_type": "stream",
     "text": [
      "Хотите хотите построить фрактал? Введите yes или no\n",
      "yes\n",
      "Введите глубину фрактала от 1 до 6: 5\n",
      "Глубина рекурсии: 6\n",
      "Хотите хотите построить фрактал? Введите yes или no\n",
      "no\n"
     ]
    },
    {
     "data": {
      "text/html": [
       "<div>\n",
       "<style scoped>\n",
       "    .dataframe tbody tr th:only-of-type {\n",
       "        vertical-align: middle;\n",
       "    }\n",
       "\n",
       "    .dataframe tbody tr th {\n",
       "        vertical-align: top;\n",
       "    }\n",
       "\n",
       "    .dataframe thead th {\n",
       "        text-align: right;\n",
       "    }\n",
       "</style>\n",
       "<table border=\"1\" class=\"dataframe\">\n",
       "  <thead>\n",
       "    <tr style=\"text-align: right;\">\n",
       "      <th></th>\n",
       "      <th>Глубина фрактала</th>\n",
       "      <th>Время построения в мс</th>\n",
       "    </tr>\n",
       "  </thead>\n",
       "  <tbody>\n",
       "    <tr>\n",
       "      <th>0</th>\n",
       "      <td>5</td>\n",
       "      <td>8034.4878</td>\n",
       "    </tr>\n",
       "  </tbody>\n",
       "</table>\n",
       "</div>"
      ],
      "text/plain": [
       "   Глубина фрактала  Время построения в мс\n",
       "0                 5              8034.4878"
      ]
     },
     "execution_count": 10,
     "metadata": {},
     "output_type": "execute_result"
    }
   ],
   "source": [
    "#Дерево Пифагора \n",
    "result = []\n",
    "for i in range(6):\n",
    "    data = []\n",
    "    print('Хотите хотите построить фрактал? Введите yes или no')\n",
    "    s = (input())\n",
    "    if s == 'yes':\n",
    "        iterations = int(input('Введите глубину фрактала от 1 до 6: '))\n",
    "        data.append(iterations)\n",
    "        axiom = \"A\"\n",
    "        rules = {\"F\":\"FF\", \"A\":\"F[+A][-A]\"}\n",
    "        angle = 45\n",
    "        start_time = time.perf_counter()\n",
    "        main(iterations, axiom, rules, angle, 90, 10)\n",
    "        data.append(((time.perf_counter() - start_time)*1000))\n",
    "        result.append(data)\n",
    "        print('Глубина рекурсии:', iterations+1)\n",
    "        t.reset()\n",
    "        t.penup()\n",
    "        t.backward(0)\n",
    "        t.pendown()\n",
    "    elif s == 'no':\n",
    "        break\n",
    "\n",
    "pd.DataFrame(result, columns = [\"Глубина фрактала\", \"Время построения в мс\"])"
   ]
  },
  {
   "cell_type": "markdown",
   "metadata": {
    "id": "diOb-K7LnO5a"
   },
   "source": [
    "### Вывод"
   ]
  },
  {
   "cell_type": "markdown",
   "metadata": {},
   "source": [
    "В ходе лабораторной работы мы реализовали генерацию нескольких фракталов с применением рекурсивных функций и L-системы, оценили глубину рекурсии и построили таблицу зависимости времени построения от глубины фрактала. Наибольшее временя построения у ковра Серпинского."
   ]
  }
 ],
 "metadata": {
  "colab": {
   "collapsed_sections": [],
   "name": "Lab5.ipynb",
   "provenance": []
  },
  "kernelspec": {
   "display_name": "Python 3 (ipykernel)",
   "language": "python",
   "name": "python3"
  },
  "language_info": {
   "codemirror_mode": {
    "name": "ipython",
    "version": 3
   },
   "file_extension": ".py",
   "mimetype": "text/x-python",
   "name": "python",
   "nbconvert_exporter": "python",
   "pygments_lexer": "ipython3",
   "version": "3.9.7"
  }
 },
 "nbformat": 4,
 "nbformat_minor": 1
}
