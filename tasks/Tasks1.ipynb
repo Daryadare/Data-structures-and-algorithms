{
 "cells": [
  {
   "cell_type": "markdown",
   "id": "244314fb",
   "metadata": {},
   "source": [
    "# Задание 1"
   ]
  },
  {
   "cell_type": "markdown",
   "id": "64630386",
   "metadata": {},
   "source": [
    "Даны две строки: `s1` и `s2` с одинаковым размером.\n",
    "\n",
    "Проверьте, может ли некоторая перестановка строки `s1` “победить” некоторую перестановку строки `s2` или наоборот.\n",
    "\n",
    "Строка x может “победить” строку y (обе имеют размер n), если `x[i] >= y[i]` (в алфавитном порядке) для всех i от 0 до n-1.\n"
   ]
  },
  {
   "cell_type": "markdown",
   "id": "cf51dab2",
   "metadata": {},
   "source": [
    "## Ввод"
   ]
  },
  {
   "cell_type": "markdown",
   "id": "d697a747",
   "metadata": {},
   "source": [
    "`abc`\n",
    "`xya`"
   ]
  },
  {
   "cell_type": "markdown",
   "id": "50b10a2e",
   "metadata": {},
   "source": [
    "## Вывод"
   ]
  },
  {
   "cell_type": "markdown",
   "id": "55442a49",
   "metadata": {},
   "source": [
    "`True`\n",
    "\n",
    "### Исполняемый код записать в ячейку ниже:"
   ]
  },
  {
   "cell_type": "code",
   "execution_count": 2,
   "id": "c199208f",
   "metadata": {
    "scrolled": false
   },
   "outputs": [],
   "source": [
    "def win_str():\n",
    "    s1 = sorted(input(\"Введите первую строку: \"))\n",
    "    s2 = sorted(input(\"Введите вторую строку: \"))\n",
    "    if len(s1) == len(s2):\n",
    "        return (s1 < s2)\n",
    "    else:\n",
    "        print(\"У строк не одинаковый размер!\")"
   ]
  },
  {
   "cell_type": "code",
   "execution_count": 3,
   "id": "ba0c1caf",
   "metadata": {
    "scrolled": false
   },
   "outputs": [
    {
     "name": "stdout",
     "output_type": "stream",
     "text": [
      "Введите первую строку: abc\n",
      "Введите вторую строку: xya\n",
      "True\n"
     ]
    }
   ],
   "source": [
    "print(win_str())"
   ]
  },
  {
   "cell_type": "markdown",
   "id": "b3a969a6",
   "metadata": {},
   "source": [
    "# Задание 2"
   ]
  },
  {
   "cell_type": "markdown",
   "id": "9c1ce05d",
   "metadata": {},
   "source": [
    "Дана строка `s`, вернуть самую длинную полиндромную подстроку в `s`."
   ]
  },
  {
   "cell_type": "markdown",
   "id": "20415c0e",
   "metadata": {},
   "source": [
    "## Ввод"
   ]
  },
  {
   "cell_type": "markdown",
   "id": "e77fcb44",
   "metadata": {},
   "source": [
    "`babad`"
   ]
  },
  {
   "cell_type": "markdown",
   "id": "49996449",
   "metadata": {},
   "source": [
    "## Вывод"
   ]
  },
  {
   "cell_type": "markdown",
   "id": "75be2464",
   "metadata": {},
   "source": [
    "`aba` или `bab`"
   ]
  },
  {
   "cell_type": "markdown",
   "id": "12ef9771",
   "metadata": {},
   "source": [
    "## Исполняемый код записывать в ячейку ниже"
   ]
  },
  {
   "cell_type": "code",
   "execution_count": 4,
   "id": "3f06c4fc",
   "metadata": {},
   "outputs": [],
   "source": [
    "def is_palindrome():\n",
    "    input_str = input(\"Введите строку: \")\n",
    "    biggest_pal = \"\"\n",
    "    \n",
    "    for i in range(len(input_str) - 1):\n",
    "        for j in range(i + 1, len(input_str) + 1):\n",
    "            string = input_str[i:j]\n",
    "            if (string == string[::-1] and len(string) > len(biggest_pal)):\n",
    "                biggest_pal = string\n",
    "    return biggest_pal\n",
    "\n",
    "def print_palindrome(biggest_pal):\n",
    "    if len(biggest_pal) <= 1:\n",
    "        print(\"Здесь нет палиндрома!\")\n",
    "    else:\n",
    "        print(\"Самая длинная палиндромная подстрока: \" + biggest_pal)"
   ]
  },
  {
   "cell_type": "code",
   "execution_count": 5,
   "id": "3179ffa7",
   "metadata": {
    "scrolled": false
   },
   "outputs": [
    {
     "name": "stdout",
     "output_type": "stream",
     "text": [
      "Введите строку: babad\n",
      "Самая длинная палиндромная подстрока: bab\n"
     ]
    }
   ],
   "source": [
    "print_palindrome(is_palindrome())"
   ]
  },
  {
   "cell_type": "markdown",
   "id": "5f54b630",
   "metadata": {},
   "source": [
    "# Задание 3"
   ]
  },
  {
   "cell_type": "markdown",
   "id": "566f1d3b",
   "metadata": {},
   "source": [
    "Вернуть количество отдельных непустых подстрок текста, которые могут быть записаны как конкатенация некоторой строки с самой собой (т.е. она может быть записана, как `a + a`, где `a` - некоторая строка)."
   ]
  },
  {
   "cell_type": "markdown",
   "id": "0f734fd8",
   "metadata": {},
   "source": [
    "## Ввод"
   ]
  },
  {
   "cell_type": "markdown",
   "id": "e0be5554",
   "metadata": {},
   "source": [
    "`aabb`"
   ]
  },
  {
   "cell_type": "markdown",
   "id": "ab8eda0b",
   "metadata": {},
   "source": [
    "## Вывод"
   ]
  },
  {
   "cell_type": "markdown",
   "id": "1d716d36",
   "metadata": {},
   "source": [
    "2"
   ]
  },
  {
   "cell_type": "markdown",
   "id": "fcd91349",
   "metadata": {},
   "source": [
    "## Исполняемый код записывать в ячейку ниже"
   ]
  },
  {
   "cell_type": "code",
   "execution_count": 6,
   "id": "be07379d",
   "metadata": {},
   "outputs": [],
   "source": [
    "def concatenation():\n",
    "    input_str = input(\"Введите строку: \")\n",
    "    counter = 0\n",
    "    whole = []\n",
    "    \n",
    "    for i in range(2, len(input_str), 2):\n",
    "        for j in range(len(input_str) - i + 1):\n",
    "            substr = input_str[j:j + i] \n",
    "            half1 = substr[:i // 2]\n",
    "            half2 = substr[i // 2:]\n",
    "            if half1 == half2 and not half1 in whole:\n",
    "                whole.append(half1)\n",
    "                counter += 1\n",
    "    return str(counter)"
   ]
  },
  {
   "cell_type": "code",
   "execution_count": 7,
   "id": "b5abdb6f",
   "metadata": {
    "scrolled": false
   },
   "outputs": [
    {
     "name": "stdout",
     "output_type": "stream",
     "text": [
      "Введите строку: aabb\n",
      "Количество отдельных непустых подстрок:2\n"
     ]
    }
   ],
   "source": [
    "print(\"Количество отдельных непустых подстрок:\" + concatenation())"
   ]
  }
 ],
 "metadata": {
  "kernelspec": {
   "display_name": "Python 3 (ipykernel)",
   "language": "python",
   "name": "python3"
  },
  "language_info": {
   "codemirror_mode": {
    "name": "ipython",
    "version": 3
   },
   "file_extension": ".py",
   "mimetype": "text/x-python",
   "name": "python",
   "nbconvert_exporter": "python",
   "pygments_lexer": "ipython3",
   "version": "3.9.7"
  }
 },
 "nbformat": 4,
 "nbformat_minor": 5
}
