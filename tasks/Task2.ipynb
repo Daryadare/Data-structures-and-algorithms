{
 "cells": [
  {
   "cell_type": "markdown",
   "id": "arctic-stocks",
   "metadata": {},
   "source": [
    "### Задание №1\n",
    "Массив A состоит из целых положительных чисел длин отрезков. Составьте из трех отрезков такой треугольник, чтобы его периметр был максимально возможным. Если невозможно составить треугольник с положительной площадью функция возвращает 0."
   ]
  },
  {
   "cell_type": "code",
   "execution_count": 1,
   "id": "dd3c261e",
   "metadata": {},
   "outputs": [],
   "source": [
    "import random\n",
    "from random import randint\n",
    "import numpy as np\n",
    "\n",
    "def create_array():\n",
    "    a = []\n",
    "    for i in range(10):\n",
    "        a.append(randint(1, 99))\n",
    "    return a"
   ]
  },
  {
   "cell_type": "code",
   "execution_count": 2,
   "id": "caring-truck",
   "metadata": {
    "scrolled": false
   },
   "outputs": [],
   "source": [
    "def triangle(array):\n",
    "    array.sort(reverse = True)\n",
    "    for i in range(0, 3):\n",
    "        if array[i] + array[i+1] + array[i+2] > 0:\n",
    "            return array[i] + array[i+1] + array[i+2]\n",
    "    return 0"
   ]
  },
  {
   "cell_type": "code",
   "execution_count": 3,
   "id": "5202b7ec",
   "metadata": {
    "scrolled": true
   },
   "outputs": [
    {
     "name": "stdout",
     "output_type": "stream",
     "text": [
      "Initial array:  [59, 27, 17, 19, 68, 4, 36, 22, 39, 3]\n",
      "Maximum perimeter:  166\n"
     ]
    }
   ],
   "source": [
    "array = create_array()\n",
    "print('Initial array: ', array)\n",
    "print('Maximum perimeter: ', triangle(array))"
   ]
  },
  {
   "cell_type": "markdown",
   "id": "maritime-conversation",
   "metadata": {},
   "source": [
    "### Задание №2\n",
    "Дан массив неотрицательных целых чисел nums. Расположите их в таком порядке, чтобы вместе они образовали максимально возможное число. Замечание: Результат может быть очень большим числом, поэтому представьте его как string, а не integer."
   ]
  },
  {
   "cell_type": "code",
   "execution_count": 4,
   "id": "alert-charm",
   "metadata": {
    "scrolled": false
   },
   "outputs": [],
   "source": [
    "def max_number(array):\n",
    "    def bigger(a, b):\n",
    "        direct = int(str(a) + str(b))\n",
    "        reverse = int(str(b) + str(a))\n",
    "        if direct > reverse:\n",
    "            return True    \n",
    "    \n",
    "    def array_sort(array):\n",
    "        for i in range (len(array) - 1):\n",
    "            bigger_num = i\n",
    "            for j in range(i + 1, len(array)):\n",
    "                if not bigger(array[bigger_num], array[j]):\n",
    "                    bigger_num = j\n",
    "            array[i], array[bigger_num] = array[bigger_num], array[i]\n",
    "    \n",
    "    array_sort(array)\n",
    "    return ''.join(str(n) for n in array)"
   ]
  },
  {
   "cell_type": "code",
   "execution_count": 5,
   "id": "9fa1018c",
   "metadata": {
    "scrolled": true
   },
   "outputs": [
    {
     "name": "stdout",
     "output_type": "stream",
     "text": [
      "Initial array:  [83, 29, 71, 35, 25, 44, 39, 25, 72, 81]\n",
      "Maximum number:  83817271443935292525\n"
     ]
    }
   ],
   "source": [
    "array = create_array()\n",
    "print('Initial array: ', array)\n",
    "print('Maximum number: ', max_number(array))"
   ]
  },
  {
   "cell_type": "markdown",
   "id": "catholic-roots",
   "metadata": {},
   "source": [
    "### Задание №3\n",
    "Дана матрица mat размером m * n, значения целочисленные. Напишите функцию, сортирующую каждую диагональ матрицы по возрастанию и возвращающую получившуюся матрицу."
   ]
  },
  {
   "cell_type": "code",
   "execution_count": 6,
   "id": "cleared-anniversary",
   "metadata": {
    "scrolled": true
   },
   "outputs": [
    {
     "name": "stdout",
     "output_type": "stream",
     "text": [
      "Initial matrix: \n",
      " 10 90 74\n",
      " 99 81  6\n",
      " 25 51 42\n",
      "Diagonally sorted matrix: \n",
      " 10  6 74\n",
      " 51 42 90\n",
      " 25 99 81\n"
     ]
    }
   ],
   "source": [
    "matrix = np.random.randint(0, 100, (3, 3))\n",
    "\n",
    "def print_matrix(matrix): \n",
    "    for j in matrix: \n",
    "        for i in j: \n",
    "            print (\"{:3d}\".format(i), end = \"\") \n",
    "        print ()       \n",
    "\n",
    "print('Initial matrix: ')\n",
    "print_matrix(matrix)\n",
    "print('Diagonally sorted matrix: ')\n",
    "\n",
    "for i in range((3-1) * (-1), 3):\n",
    "    matrix.diagonal(offset = i)\n",
    "    di = np.diagonal(matrix, offset = i)\n",
    "    di.setflags(write = True)\n",
    "    di.sort()\n",
    "\n",
    "print_matrix(matrix)"
   ]
  }
 ],
 "metadata": {
  "kernelspec": {
   "display_name": "Python 3 (ipykernel)",
   "language": "python",
   "name": "python3"
  },
  "language_info": {
   "codemirror_mode": {
    "name": "ipython",
    "version": 3
   },
   "file_extension": ".py",
   "mimetype": "text/x-python",
   "name": "python",
   "nbconvert_exporter": "python",
   "pygments_lexer": "ipython3",
   "version": "3.9.7"
  }
 },
 "nbformat": 4,
 "nbformat_minor": 5
}
